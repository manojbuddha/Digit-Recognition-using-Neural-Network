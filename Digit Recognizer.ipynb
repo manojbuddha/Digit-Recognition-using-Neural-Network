{
 "cells": [
  {
   "cell_type": "markdown",
   "metadata": {},
   "source": [
    "# Any imports required here"
   ]
  },
  {
   "cell_type": "code",
   "execution_count": 1,
   "metadata": {},
   "outputs": [],
   "source": [
    "import pandas as pd\n",
    "import numpy as np\n",
    "import matplotlib.pyplot as plt\n",
    "from art import *\n",
    "from scipy.special import expit, logit # this is for the sigmoid function"
   ]
  },
  {
   "cell_type": "markdown",
   "metadata": {},
   "source": [
    "FYI: art is a package to print in a different way"
   ]
  },
  {
   "cell_type": "markdown",
   "metadata": {},
   "source": [
    "Pandas Data injection here"
   ]
  },
  {
   "cell_type": "code",
   "execution_count": 2,
   "metadata": {},
   "outputs": [],
   "source": [
    "train_data = pd.read_csv(\"train.csv\")\n"
   ]
  },
  {
   "cell_type": "markdown",
   "metadata": {},
   "source": [
    "Data properties here"
   ]
  },
  {
   "cell_type": "markdown",
   "metadata": {},
   "source": [
    "# Image data info\n",
    "The data files train.csv and test.csv contain gray-scale images of hand-drawn digits, from zero through nine.\n",
    "\n",
    "Each image is 28 pixels in height and 28 pixels in width, for a total of 784 pixels in total. Each pixel has a single pixel-value associated with it, indicating the lightness or darkness of that pixel, with higher numbers meaning darker. This pixel-value is an integer between 0 and 255, inclusive."
   ]
  },
  {
   "cell_type": "code",
   "execution_count": 3,
   "metadata": {},
   "outputs": [
    {
     "data": {
      "text/html": [
       "<div>\n",
       "<style scoped>\n",
       "    .dataframe tbody tr th:only-of-type {\n",
       "        vertical-align: middle;\n",
       "    }\n",
       "\n",
       "    .dataframe tbody tr th {\n",
       "        vertical-align: top;\n",
       "    }\n",
       "\n",
       "    .dataframe thead th {\n",
       "        text-align: right;\n",
       "    }\n",
       "</style>\n",
       "<table border=\"1\" class=\"dataframe\">\n",
       "  <thead>\n",
       "    <tr style=\"text-align: right;\">\n",
       "      <th></th>\n",
       "      <th>label</th>\n",
       "      <th>pixel0</th>\n",
       "      <th>pixel1</th>\n",
       "      <th>pixel2</th>\n",
       "      <th>pixel3</th>\n",
       "      <th>pixel4</th>\n",
       "      <th>pixel5</th>\n",
       "      <th>pixel6</th>\n",
       "      <th>pixel7</th>\n",
       "      <th>pixel8</th>\n",
       "      <th>...</th>\n",
       "      <th>pixel774</th>\n",
       "      <th>pixel775</th>\n",
       "      <th>pixel776</th>\n",
       "      <th>pixel777</th>\n",
       "      <th>pixel778</th>\n",
       "      <th>pixel779</th>\n",
       "      <th>pixel780</th>\n",
       "      <th>pixel781</th>\n",
       "      <th>pixel782</th>\n",
       "      <th>pixel783</th>\n",
       "    </tr>\n",
       "  </thead>\n",
       "  <tbody>\n",
       "    <tr>\n",
       "      <th>0</th>\n",
       "      <td>1</td>\n",
       "      <td>0</td>\n",
       "      <td>0</td>\n",
       "      <td>0</td>\n",
       "      <td>0</td>\n",
       "      <td>0</td>\n",
       "      <td>0</td>\n",
       "      <td>0</td>\n",
       "      <td>0</td>\n",
       "      <td>0</td>\n",
       "      <td>...</td>\n",
       "      <td>0</td>\n",
       "      <td>0</td>\n",
       "      <td>0</td>\n",
       "      <td>0</td>\n",
       "      <td>0</td>\n",
       "      <td>0</td>\n",
       "      <td>0</td>\n",
       "      <td>0</td>\n",
       "      <td>0</td>\n",
       "      <td>0</td>\n",
       "    </tr>\n",
       "    <tr>\n",
       "      <th>1</th>\n",
       "      <td>0</td>\n",
       "      <td>0</td>\n",
       "      <td>0</td>\n",
       "      <td>0</td>\n",
       "      <td>0</td>\n",
       "      <td>0</td>\n",
       "      <td>0</td>\n",
       "      <td>0</td>\n",
       "      <td>0</td>\n",
       "      <td>0</td>\n",
       "      <td>...</td>\n",
       "      <td>0</td>\n",
       "      <td>0</td>\n",
       "      <td>0</td>\n",
       "      <td>0</td>\n",
       "      <td>0</td>\n",
       "      <td>0</td>\n",
       "      <td>0</td>\n",
       "      <td>0</td>\n",
       "      <td>0</td>\n",
       "      <td>0</td>\n",
       "    </tr>\n",
       "    <tr>\n",
       "      <th>2</th>\n",
       "      <td>1</td>\n",
       "      <td>0</td>\n",
       "      <td>0</td>\n",
       "      <td>0</td>\n",
       "      <td>0</td>\n",
       "      <td>0</td>\n",
       "      <td>0</td>\n",
       "      <td>0</td>\n",
       "      <td>0</td>\n",
       "      <td>0</td>\n",
       "      <td>...</td>\n",
       "      <td>0</td>\n",
       "      <td>0</td>\n",
       "      <td>0</td>\n",
       "      <td>0</td>\n",
       "      <td>0</td>\n",
       "      <td>0</td>\n",
       "      <td>0</td>\n",
       "      <td>0</td>\n",
       "      <td>0</td>\n",
       "      <td>0</td>\n",
       "    </tr>\n",
       "    <tr>\n",
       "      <th>3</th>\n",
       "      <td>4</td>\n",
       "      <td>0</td>\n",
       "      <td>0</td>\n",
       "      <td>0</td>\n",
       "      <td>0</td>\n",
       "      <td>0</td>\n",
       "      <td>0</td>\n",
       "      <td>0</td>\n",
       "      <td>0</td>\n",
       "      <td>0</td>\n",
       "      <td>...</td>\n",
       "      <td>0</td>\n",
       "      <td>0</td>\n",
       "      <td>0</td>\n",
       "      <td>0</td>\n",
       "      <td>0</td>\n",
       "      <td>0</td>\n",
       "      <td>0</td>\n",
       "      <td>0</td>\n",
       "      <td>0</td>\n",
       "      <td>0</td>\n",
       "    </tr>\n",
       "    <tr>\n",
       "      <th>4</th>\n",
       "      <td>0</td>\n",
       "      <td>0</td>\n",
       "      <td>0</td>\n",
       "      <td>0</td>\n",
       "      <td>0</td>\n",
       "      <td>0</td>\n",
       "      <td>0</td>\n",
       "      <td>0</td>\n",
       "      <td>0</td>\n",
       "      <td>0</td>\n",
       "      <td>...</td>\n",
       "      <td>0</td>\n",
       "      <td>0</td>\n",
       "      <td>0</td>\n",
       "      <td>0</td>\n",
       "      <td>0</td>\n",
       "      <td>0</td>\n",
       "      <td>0</td>\n",
       "      <td>0</td>\n",
       "      <td>0</td>\n",
       "      <td>0</td>\n",
       "    </tr>\n",
       "  </tbody>\n",
       "</table>\n",
       "<p>5 rows × 785 columns</p>\n",
       "</div>"
      ],
      "text/plain": [
       "   label  pixel0  pixel1  pixel2  pixel3  pixel4  pixel5  pixel6  pixel7  \\\n",
       "0      1       0       0       0       0       0       0       0       0   \n",
       "1      0       0       0       0       0       0       0       0       0   \n",
       "2      1       0       0       0       0       0       0       0       0   \n",
       "3      4       0       0       0       0       0       0       0       0   \n",
       "4      0       0       0       0       0       0       0       0       0   \n",
       "\n",
       "   pixel8  ...  pixel774  pixel775  pixel776  pixel777  pixel778  pixel779  \\\n",
       "0       0  ...         0         0         0         0         0         0   \n",
       "1       0  ...         0         0         0         0         0         0   \n",
       "2       0  ...         0         0         0         0         0         0   \n",
       "3       0  ...         0         0         0         0         0         0   \n",
       "4       0  ...         0         0         0         0         0         0   \n",
       "\n",
       "   pixel780  pixel781  pixel782  pixel783  \n",
       "0         0         0         0         0  \n",
       "1         0         0         0         0  \n",
       "2         0         0         0         0  \n",
       "3         0         0         0         0  \n",
       "4         0         0         0         0  \n",
       "\n",
       "[5 rows x 785 columns]"
      ]
     },
     "execution_count": 3,
     "metadata": {},
     "output_type": "execute_result"
    }
   ],
   "source": [
    "train_data.head()"
   ]
  },
  {
   "cell_type": "code",
   "execution_count": 4,
   "metadata": {},
   "outputs": [
    {
     "data": {
      "text/plain": [
       "(42000, 785)"
      ]
     },
     "execution_count": 4,
     "metadata": {},
     "output_type": "execute_result"
    }
   ],
   "source": [
    "train_data.shape"
   ]
  },
  {
   "cell_type": "code",
   "execution_count": 5,
   "metadata": {},
   "outputs": [
    {
     "data": {
      "text/plain": [
       "784"
      ]
     },
     "execution_count": 5,
     "metadata": {},
     "output_type": "execute_result"
    }
   ],
   "source": [
    "len(train_data.columns[1:])"
   ]
  },
  {
   "cell_type": "code",
   "execution_count": 35,
   "metadata": {},
   "outputs": [
    {
     "data": {
      "text/plain": [
       "37800.0"
      ]
     },
     "execution_count": 35,
     "metadata": {},
     "output_type": "execute_result"
    }
   ],
   "source": [
    "train_data.shape[0]/10\n",
    "\n",
    "train_data.shape[0]-train_data.shape[0]/10"
   ]
  },
  {
   "cell_type": "code",
   "execution_count": 39,
   "metadata": {},
   "outputs": [],
   "source": [
    "x=train_data[train_data.columns[1:]]\n",
    "x=x.to_numpy()\n",
    "y=train_data[train_data.columns[0]]\n",
    "y=y.to_numpy()\n",
    "y=y[:,np.newaxis]\n",
    "y=np.where(y==0, 10, y) \n",
    "m=x.shape[0]\n"
   ]
  },
  {
   "cell_type": "code",
   "execution_count": null,
   "metadata": {},
   "outputs": [],
   "source": []
  },
  {
   "cell_type": "code",
   "execution_count": 7,
   "metadata": {},
   "outputs": [],
   "source": [
    "#x.describe()"
   ]
  },
  {
   "cell_type": "code",
   "execution_count": 8,
   "metadata": {},
   "outputs": [
    {
     "name": "stdout",
     "output_type": "stream",
     "text": [
      "  ___  \n",
      " / _ \\ \n",
      "| | | |\n",
      "| |_| |\n",
      " \\___/ \n",
      "       \n",
      "\n"
     ]
    }
   ],
   "source": [
    "tprint(str(train_data.isnull().sum().sum())) # 0 null values so no cleaning needed"
   ]
  },
  {
   "cell_type": "markdown",
   "metadata": {},
   "source": [
    "Data Vizualization here"
   ]
  },
  {
   "cell_type": "code",
   "execution_count": 9,
   "metadata": {},
   "outputs": [],
   "source": [
    "def displayImage(image_data):\n",
    "    image_data = np.array(image_data).reshape(28,28)\n",
    "    plt.imshow(image_data, cmap=plt.cm.binary)\n",
    "    plt.show()\n",
    "    "
   ]
  },
  {
   "cell_type": "code",
   "execution_count": 10,
   "metadata": {},
   "outputs": [
    {
     "data": {
      "image/png": "[encoded data removed]",
      "text/plain": [
       "<Figure size 432x288 with 4 Axes>"
      ]
     },
     "metadata": {},
     "output_type": "display_data"
    }
   ],
   "source": [
    "for i in range(4):\n",
    "    image_data=x[i]\n",
    "    image_data = np.array(image_data).reshape(28,28)\n",
    "    plt.subplot(2,2,i+1)\n",
    "    plt.xticks([])\n",
    "    plt.yticks([])\n",
    "    plt.grid(True)\n",
    "    plt.imshow(image_data, cmap=plt.cm.binary)\n",
    "    plt.xlabel(str(y[i]))\n",
    "plt.show()"
   ]
  },
  {
   "cell_type": "code",
   "execution_count": 11,
   "metadata": {},
   "outputs": [
    {
     "data": {
      "image/png": "[encoded data removed]",
      "text/plain": [
       "<Figure size 432x288 with 1 Axes>"
      ]
     },
     "metadata": {
      "needs_background": "light"
     },
     "output_type": "display_data"
    },
    {
     "name": "stdout",
     "output_type": "stream",
     "text": [
      "The number is:\n",
      " __  _  __ \n",
      "| _|/ ||_ |\n",
      "| | | | | |\n",
      "| | | | | |\n",
      "| | |_| | |\n",
      "|__|   |__|\n",
      "\n"
     ]
    }
   ],
   "source": [
    "j=0\n",
    "displayImage(x[j])\n",
    "print(\"The number is:\")\n",
    "tprint(str(y[j]))"
   ]
  },
  {
   "cell_type": "markdown",
   "metadata": {},
   "source": [
    "Deleted the label column which contains the number associated with the pixels in the row"
   ]
  },
  {
   "cell_type": "code",
   "execution_count": 12,
   "metadata": {},
   "outputs": [],
   "source": [
    "#del train_data['label']  # you can also use this to drop an column train_data_bias.delete(\"label\",axis=1)"
   ]
  },
  {
   "cell_type": "markdown",
   "metadata": {},
   "source": [
    "# Neural network implementation starting:"
   ]
  },
  {
   "cell_type": "code",
   "execution_count": 13,
   "metadata": {},
   "outputs": [],
   "source": [
    "h_layer=25 # number of units in hidden layer\n",
    "input_layer_size = x.shape[1]\n",
    "num_labels=10"
   ]
  },
  {
   "cell_type": "code",
   "execution_count": 14,
   "metadata": {},
   "outputs": [],
   "source": [
    "#Converting the single column outut column in then required format for classification\n",
    "y10 = np.zeros((m,num_labels))\n",
    "for i in range(1,num_labels+1):\n",
    "    y10[:,i-1][:,np.newaxis] = np.where(y==i,1,0) "
   ]
  },
  {
   "cell_type": "markdown",
   "metadata": {},
   "source": [
    "## theta random initialization"
   ]
  },
  {
   "cell_type": "code",
   "execution_count": 15,
   "metadata": {},
   "outputs": [],
   "source": [
    "def theta_init(r,c):\n",
    "    epsilon = (6**1/2) / (r + c)**1/2\n",
    "    #epsilon=0.15\n",
    "    return ((np.random.rand(r,c)*(2*epsilon))-epsilon)"
   ]
  },
  {
   "cell_type": "markdown",
   "metadata": {},
   "source": [
    "## Sigmoid function"
   ]
  },
  {
   "cell_type": "code",
   "execution_count": 18,
   "metadata": {},
   "outputs": [],
   "source": [
    "def sigmoid(z):\n",
    "    \n",
    "    #res = 1 / (1 + np.exp((-z))) #While using this you will get exp overflow so we are using expit \n",
    "    #which is similar to sigmoid\n",
    "    res=expit(z)\n",
    "    return res\n",
    "    "
   ]
  },
  {
   "cell_type": "code",
   "execution_count": 19,
   "metadata": {},
   "outputs": [
    {
     "data": {
      "image/png": "[encoded data removed]",
      "text/plain": [
       "<Figure size 432x288 with 1 Axes>"
      ]
     },
     "metadata": {
      "needs_background": "light"
     },
     "output_type": "display_data"
    }
   ],
   "source": [
    "# Sigmoid function working, plot\n",
    "x_ax = np.linspace(-6, 6, 121)\n",
    "y_ax = sigmoid(x_ax)\n",
    "plt.plot(x_ax, y_ax)\n",
    "plt.grid()\n",
    "plt.xlim(-6, 6)\n",
    "plt.xlabel('x')\n",
    "plt.title('sigmoid(x)')\n",
    "plt.show()"
   ]
  },
  {
   "cell_type": "markdown",
   "metadata": {},
   "source": [
    "## Sigmoid with gradient"
   ]
  },
  {
   "cell_type": "code",
   "execution_count": 20,
   "metadata": {},
   "outputs": [],
   "source": [
    "def sigmoid_grad(inp_vector):\n",
    "    return sigmoid(inp_vector)*(1-sigmoid(inp_vector))"
   ]
  },
  {
   "cell_type": "code",
   "execution_count": 21,
   "metadata": {},
   "outputs": [
    {
     "data": {
      "image/png": "[encoded data removed]",
      "text/plain": [
       "<Figure size 432x288 with 1 Axes>"
      ]
     },
     "metadata": {
      "needs_background": "light"
     },
     "output_type": "display_data"
    }
   ],
   "source": [
    "# Sigmoid with gradient function working, plot\n",
    "x_ax = np.linspace(-6, 6, 121)\n",
    "y_ax = sigmoid_grad(x_ax)\n",
    "plt.plot(x_ax, y_ax)\n",
    "plt.grid()\n",
    "plt.xlim(-6, 6)\n",
    "plt.xlabel('x')\n",
    "plt.title('expit(x)')\n",
    "plt.show()"
   ]
  },
  {
   "cell_type": "markdown",
   "metadata": {},
   "source": [
    "## Neural network Cost function and backpropagation"
   ]
  },
  {
   "cell_type": "code",
   "execution_count": 45,
   "metadata": {},
   "outputs": [],
   "source": [
    "def nncost_function(nnparams):\n",
    "    J=0\n",
    "    J_reg=0\n",
    "    lamda=1\n",
    "    # y=train_data[train_data.columns[0]]\n",
    "    # y=y.to_numpy()\n",
    "    # y=y[:,np.newaxis]\n",
    "    \n",
    "\n",
    "    theta1=nnparams[:((input_layer_size+1)*h_layer)].reshape(h_layer,input_layer_size+1)\n",
    "    theta2=nnparams[((input_layer_size+1)*h_layer):].reshape(num_labels,h_layer+1)\n",
    "\n",
    "    m=x.shape[0]\n",
    "\n",
    "\n",
    "    bias = np.ones((x.shape[0],1 ))\n",
    "   \n",
    "    y=y10.copy()      \n",
    "    a1=x.copy()\n",
    "    #train_data_bias.insert(loc=1, column='Bias', value=bias)\n",
    "    a1 = np.hstack((bias,a1))\n",
    "\n",
    "    z1 = a1@(theta1.T)\n",
    "    a2=sigmoid(z1)\n",
    "    bias2 = np.ones((1,a2.shape[0]))\n",
    "    a2=np.insert(a2,0,bias2,axis=1).copy()\n",
    "    \n",
    "    z2 = a2@(theta2.T)\n",
    "    a3 = sigmoid(z2)\n",
    "    hyp=a3.copy()\n",
    " \n",
    "    J= np.sum((((-y)*np.log(hyp))-((1-y)*np.log(1-hyp))))\n",
    "    J=J/m\n",
    "\n",
    "    reg_theta1=theta1[:,1:]\n",
    "    reg_theta2=theta2[:,1:]\n",
    "    \n",
    "    reg=((np.sum(reg_theta1**2)+np.sum(reg_theta2**2))*(lamda))/(2*m)\n",
    "    J_reg=J+reg\n",
    "    #below computes the backpropagation for gradient descent\n",
    "    #theta1_grad,theta2_grad = backpropagation(theta1,theta2,y,x) \n",
    "    \n",
    "    #gtheta1,gtheta2 =   backpropagation(theta1,theta2,y,x)\n",
    "    \n",
    "    \n",
    "\n",
    "\n",
    "\n",
    "    theta1=nnparams[:((input_layer_size+1)*h_layer)].reshape(h_layer,input_layer_size+1)\n",
    "    theta2=nnparams[((input_layer_size+1)*h_layer):].reshape(num_labels,h_layer+1)\n",
    "\n",
    "\n",
    "    theta1_grad = np.zeros_like(theta1)\n",
    "    theta2_grad = np.zeros_like(theta2)\n",
    "    m = x.shape[0]    \n",
    "    # y10=np.zeros((m,num_labels))\n",
    "    # y=y10.copy() \n",
    "    # for i in range(1,num_labels+1):\n",
    "    #     y10[:,i-1][:,np.newaxis] = np.where(y==i,1,0)    \n",
    "    y=y10.copy()        \n",
    "    \n",
    "\n",
    "    for i in range(0,m):\n",
    "        a1 = x[i][:].copy()\n",
    "        #a1=a1[:,np.newaxis]\n",
    "        #b=np.ones((1,1))\n",
    "\n",
    "        a1 = np.hstack((1,a1)) # with bias \n",
    "\n",
    "        z2 = theta1@a1\n",
    "\n",
    "        a2 = sigmoid(z2)\n",
    "\n",
    "        a2 = np.hstack((1,a2))\n",
    "\n",
    "        z3 = theta2@a2\n",
    "\n",
    "        a3 = sigmoid(z3)\n",
    "\n",
    "        d3 = a3-y[i]\n",
    "\n",
    "        d2 = ((theta2.T)@d3)*(sigmoid_grad(np.hstack((1,z2))))\n",
    "\n",
    "        d2 = d2[1:]  \n",
    "        \n",
    "        d2 = d2[:,np.newaxis]\n",
    "        d3 = d3[:,np.newaxis]\n",
    "        a1 = a1[:,np.newaxis]\n",
    "        a2 = a2[:,np.newaxis]\n",
    "        dt1 = d2@(a1.T)\n",
    "        dt2 = d3@(a2.T)\n",
    "\n",
    "        theta1_grad = theta1_grad + dt1\n",
    "        theta2_grad = theta2_grad + dt2\n",
    "    lamda=1\n",
    "    theta1_grad[:,1:] = theta1_grad[:,1:] + ((lamda/m)*theta1[:,1:])\n",
    "    theta2_grad[:,1:] = theta2_grad[:,1:] + ((lamda/m)*theta2[:,1:])\n",
    "    theta1_grad=theta1_grad/m\n",
    "    theta2_grad=theta2_grad/m\n",
    "    \n",
    "    nngradparams=np.hstack((theta1_grad.ravel(),theta2_grad.ravel()))\n",
    "\n",
    "\n",
    "    return J_reg,nngradparams\n"
   ]
  },
  {
   "cell_type": "code",
   "execution_count": 42,
   "metadata": {},
   "outputs": [],
   "source": [
    "#nnparams - to convert the roll the thetas\n",
    "theta1 = theta_init(h_layer,x.shape[1]+1)\n",
    "theta2 = theta_init(10,h_layer+1)\n",
    "    \n",
    "nnparams=np.hstack((theta1.ravel(),theta2.ravel()))"
   ]
  },
  {
   "cell_type": "code",
   "execution_count": 50,
   "metadata": {},
   "outputs": [],
   "source": [
    "def gradientDescentnn(x,y,nnparams,lamda,num_iter,alpha):\n",
    "    c=[]\n",
    "    creg=[]\n",
    "    ite=[]\n",
    "    theta1=nnparams[:((input_layer_size+1)*h_layer)].reshape(h_layer,input_layer_size+1)\n",
    "    theta2=nnparams[((input_layer_size+1)*h_layer):].reshape(num_labels,h_layer+1)    \n",
    "    \n",
    "    for i in range(num_iter):\n",
    "\n",
    "        print(\"Iteration: \",i)\n",
    "        #ite.append(i)\n",
    "        nnparams = backpropagation(nnparams)\n",
    "        #nnparams=np.hstack((theta1.ravel(),theta2.ravel()))\n",
    "        grad1=nnparams[:((input_layer_size+1)*h_layer)].reshape(h_layer,input_layer_size+1)\n",
    "        grad2=nnparams[((input_layer_size+1)*h_layer):].reshape(num_labels,h_layer+1)\n",
    "        cost = nncost_function(nnparams)\n",
    "        print(\"cost \",cost )\n",
    "        #c.append(cost)\n",
    "        #creg.append(reg_cost)\n",
    "        theta1=theta1-(alpha*grad1)\n",
    "        theta2=theta2-(alpha*grad2)\n",
    "        nnparams=np.hstack((theta1.ravel(),theta2.ravel()))\n",
    "        # if float(cost) <= 2.5:\n",
    "        #     alpha=0.08\n",
    "        #     print(\"alpha changed to :\", alpha)\n",
    "        # if float(cost) <= 2:\n",
    "        #     alpha=0.03   \n",
    "        #     print(\"alpha changed to :\", alpha)\n",
    "        # if int(cost) == 0:\n",
    "        #     return theta1,theta2,out\n",
    "        #     print(\"alpha changed to :\", alpha)        \n",
    "        # if i==num_iter-1:\n",
    "        #     inc=int(input(\"Hii, you are nearing the iterations if u are not satisfied with the cost/learning input by how many iterations you want to increase, if not enter 0: \"))\n",
    "        #     num_iter+=inc\n",
    "        #     al=float(input(\"Enter the alpha value with which you want to proceeed\"))\n",
    "        #     alpha=al\n",
    "    out=[]\n",
    "    choice= input(\"press y to predict data:\")\n",
    "    if choice=='y':\n",
    "        test=pd.read_csv(\"test.csv\")\n",
    "        test.to_numpy()\n",
    "        out=predict(test, theta1,theta2)\n",
    "        generate_output(out)\n",
    "        # costvsiteration(ite,cost,c,creg)        \n",
    "    return theta1,theta2,out\n",
    "\n",
    "def costvsiteration(ite,cost,c,creg):\n",
    "    plt.plot(ite,c,label=\"cost without regularization\")\n",
    "    plt.plot(ite,creg,label=\"cost with regularization\")\n",
    "    plt.legend()\n",
    "    plt.title(\"gradient iteration vs Cost Graph\")\n",
    "    plt.xlabel(\"iteration\")\n",
    "    plt.ylabel(\"Cost\")\n",
    "    plt.show()"
   ]
  },
  {
   "cell_type": "code",
   "execution_count": 27,
   "metadata": {},
   "outputs": [],
   "source": [
    "# test data\n",
    "test=pd.read_csv(\"test.csv\")\n",
    "test=test.to_numpy()"
   ]
  },
  {
   "cell_type": "code",
   "execution_count": 28,
   "metadata": {},
   "outputs": [],
   "source": [
    "#this function is to display the learning i.e, the weights of the hidden layer theta1 after traning the network\n",
    "\n",
    "def displayLearning(theta):\n",
    "    theta=theta[:,1:]\n",
    "    for i in range(25):\n",
    "        image_data= theta[i].reshape(28,28)\n",
    "        plt.subplot(5,5,i+1)\n",
    "        plt.xticks([])\n",
    "        plt.yticks([])\n",
    "        plt.grid(True)\n",
    "        plt.imshow(image_data)\n",
    "        \n",
    "    plt.show()\n",
    "    \n"
   ]
  },
  {
   "cell_type": "code",
   "execution_count": 29,
   "metadata": {},
   "outputs": [],
   "source": [
    "\n",
    "def predict(X,theta1,theta2):\n",
    "    m= X.shape[0]\n",
    "    X = np.hstack((np.ones((m,1)),X))\n",
    "    \n",
    "    a1 = sigmoid(X @ theta1.T)\n",
    "    a1 = np.hstack((np.ones((m,1)), a1)) # hidden layer\n",
    "    a2 = sigmoid(a1 @ theta2.T) # output layer\n",
    "    \n",
    "    return np.argmax(a2,axis=1)+1"
   ]
  },
  {
   "cell_type": "code",
   "execution_count": 30,
   "metadata": {},
   "outputs": [],
   "source": [
    "#to convert the predicted values to a csv format\n",
    "def generate_output(out):\n",
    "    writedata=open(\"digit_output.csv\",'w')\n",
    "    writedata.write(\"ImageId\"+\",\"+\"Label\")\n",
    "    writedata.write(\"\\n\")\n",
    "    for i in range(out.shape[0]):\n",
    "        if out[i]==10:\n",
    "            writedata.write(str(i+1)+\",\"+str(0)+\"\\n\")\n",
    "        else:\n",
    "        \n",
    "            writedata.write(str(i+1)+\",\"+str(out[i])+\"\\n\")\n",
    "    writedata.close()\n",
    "    \n"
   ]
  },
  {
   "cell_type": "code",
   "execution_count": 31,
   "metadata": {},
   "outputs": [
    {
     "data": {
      "text/plain": [
       "7.058469719309691"
      ]
     },
     "execution_count": 31,
     "metadata": {},
     "output_type": "execute_result"
    }
   ],
   "source": [
    "nncost_function(nnparams) # returns the cost for the data"
   ]
  },
  {
   "cell_type": "code",
   "execution_count": 52,
   "metadata": {},
   "outputs": [
    {
     "name": "stdout",
     "output_type": "stream",
     "text": [
      "Iteration:  0\n",
      "cost  24.96692489355561\n",
      "Iteration:  1\n",
      "cost  19.338153580875808\n",
      "Iteration:  2\n",
      "cost  14.464680357776519\n",
      "Iteration:  3\n",
      "cost  11.823371198775696\n",
      "Iteration:  4\n",
      "cost  10.597512457337706\n",
      "Iteration:  5\n",
      "cost  9.652422846424585\n",
      "Iteration:  6\n",
      "cost  9.17649858175193\n",
      "Iteration:  7\n",
      "cost  8.844830378956665\n",
      "Iteration:  8\n",
      "cost  8.479548660809032\n",
      "Iteration:  9\n"
     ]
    },
    {
     "ename": "KeyboardInterrupt",
     "evalue": "",
     "output_type": "error",
     "traceback": [
      "\u001b[1;31m---------------------------------------------------------------------------\u001b[0m",
      "\u001b[1;31mKeyboardInterrupt\u001b[0m                         Traceback (most recent call last)",
      "\u001b[1;32m<ipython-input-52-2d48ddec1c01>\u001b[0m in \u001b[0;36m<module>\u001b[1;34m\u001b[0m\n\u001b[1;32m----> 1\u001b[1;33m \u001b[0mftheta1\u001b[0m\u001b[1;33m,\u001b[0m\u001b[0mftheta2\u001b[0m\u001b[1;33m,\u001b[0m\u001b[0mout\u001b[0m \u001b[1;33m=\u001b[0m \u001b[0mgradientDescentnn\u001b[0m\u001b[1;33m(\u001b[0m\u001b[0mx\u001b[0m\u001b[1;33m,\u001b[0m\u001b[0my\u001b[0m\u001b[1;33m,\u001b[0m\u001b[0mnnparams\u001b[0m\u001b[1;33m,\u001b[0m\u001b[0mlamda\u001b[0m\u001b[1;33m=\u001b[0m\u001b[1;36m1\u001b[0m\u001b[1;33m,\u001b[0m\u001b[0mnum_iter\u001b[0m\u001b[1;33m=\u001b[0m\u001b[1;36m50\u001b[0m\u001b[1;33m,\u001b[0m\u001b[0malpha\u001b[0m\u001b[1;33m=\u001b[0m\u001b[1;36m0.1\u001b[0m\u001b[1;33m)\u001b[0m\u001b[1;33m\u001b[0m\u001b[1;33m\u001b[0m\u001b[0m\n\u001b[0m",
      "\u001b[1;32m<ipython-input-50-a05cf04aadbb>\u001b[0m in \u001b[0;36mgradientDescentnn\u001b[1;34m(x, y, nnparams, lamda, num_iter, alpha)\u001b[0m\n\u001b[0;32m     10\u001b[0m         \u001b[0mprint\u001b[0m\u001b[1;33m(\u001b[0m\u001b[1;34m\"Iteration: \"\u001b[0m\u001b[1;33m,\u001b[0m\u001b[0mi\u001b[0m\u001b[1;33m)\u001b[0m\u001b[1;33m\u001b[0m\u001b[1;33m\u001b[0m\u001b[0m\n\u001b[0;32m     11\u001b[0m         \u001b[1;31m#ite.append(i)\u001b[0m\u001b[1;33m\u001b[0m\u001b[1;33m\u001b[0m\u001b[1;33m\u001b[0m\u001b[0m\n\u001b[1;32m---> 12\u001b[1;33m         \u001b[0mnnparams\u001b[0m \u001b[1;33m=\u001b[0m \u001b[0mbackpropagation\u001b[0m\u001b[1;33m(\u001b[0m\u001b[0mnnparams\u001b[0m\u001b[1;33m)\u001b[0m\u001b[1;33m\u001b[0m\u001b[1;33m\u001b[0m\u001b[0m\n\u001b[0m\u001b[0;32m     13\u001b[0m         \u001b[1;31m#nnparams=np.hstack((theta1.ravel(),theta2.ravel()))\u001b[0m\u001b[1;33m\u001b[0m\u001b[1;33m\u001b[0m\u001b[1;33m\u001b[0m\u001b[0m\n\u001b[0;32m     14\u001b[0m         \u001b[0mgrad1\u001b[0m\u001b[1;33m=\u001b[0m\u001b[0mnnparams\u001b[0m\u001b[1;33m[\u001b[0m\u001b[1;33m:\u001b[0m\u001b[1;33m(\u001b[0m\u001b[1;33m(\u001b[0m\u001b[0minput_layer_size\u001b[0m\u001b[1;33m+\u001b[0m\u001b[1;36m1\u001b[0m\u001b[1;33m)\u001b[0m\u001b[1;33m*\u001b[0m\u001b[0mh_layer\u001b[0m\u001b[1;33m)\u001b[0m\u001b[1;33m]\u001b[0m\u001b[1;33m.\u001b[0m\u001b[0mreshape\u001b[0m\u001b[1;33m(\u001b[0m\u001b[0mh_layer\u001b[0m\u001b[1;33m,\u001b[0m\u001b[0minput_layer_size\u001b[0m\u001b[1;33m+\u001b[0m\u001b[1;36m1\u001b[0m\u001b[1;33m)\u001b[0m\u001b[1;33m\u001b[0m\u001b[1;33m\u001b[0m\u001b[0m\n",
      "\u001b[1;32m<ipython-input-45-57481e8705d4>\u001b[0m in \u001b[0;36mbackpropagation\u001b[1;34m(nnparams)\u001b[0m\n\u001b[0;32m     92\u001b[0m         \u001b[0ma1\u001b[0m \u001b[1;33m=\u001b[0m \u001b[0ma1\u001b[0m\u001b[1;33m[\u001b[0m\u001b[1;33m:\u001b[0m\u001b[1;33m,\u001b[0m\u001b[0mnp\u001b[0m\u001b[1;33m.\u001b[0m\u001b[0mnewaxis\u001b[0m\u001b[1;33m]\u001b[0m\u001b[1;33m\u001b[0m\u001b[1;33m\u001b[0m\u001b[0m\n\u001b[0;32m     93\u001b[0m         \u001b[0ma2\u001b[0m \u001b[1;33m=\u001b[0m \u001b[0ma2\u001b[0m\u001b[1;33m[\u001b[0m\u001b[1;33m:\u001b[0m\u001b[1;33m,\u001b[0m\u001b[0mnp\u001b[0m\u001b[1;33m.\u001b[0m\u001b[0mnewaxis\u001b[0m\u001b[1;33m]\u001b[0m\u001b[1;33m\u001b[0m\u001b[1;33m\u001b[0m\u001b[0m\n\u001b[1;32m---> 94\u001b[1;33m         \u001b[0mdt1\u001b[0m \u001b[1;33m=\u001b[0m \u001b[0md2\u001b[0m\u001b[1;33m@\u001b[0m\u001b[1;33m(\u001b[0m\u001b[0ma1\u001b[0m\u001b[1;33m.\u001b[0m\u001b[0mT\u001b[0m\u001b[1;33m)\u001b[0m\u001b[1;33m\u001b[0m\u001b[1;33m\u001b[0m\u001b[0m\n\u001b[0m\u001b[0;32m     95\u001b[0m         \u001b[0mdt2\u001b[0m \u001b[1;33m=\u001b[0m \u001b[0md3\u001b[0m\u001b[1;33m@\u001b[0m\u001b[1;33m(\u001b[0m\u001b[0ma2\u001b[0m\u001b[1;33m.\u001b[0m\u001b[0mT\u001b[0m\u001b[1;33m)\u001b[0m\u001b[1;33m\u001b[0m\u001b[1;33m\u001b[0m\u001b[0m\n\u001b[0;32m     96\u001b[0m \u001b[1;33m\u001b[0m\u001b[0m\n",
      "\u001b[1;31mKeyboardInterrupt\u001b[0m: "
     ]
    }
   ],
   "source": [
    "ftheta1,ftheta2,out = gradientDescentnn(x,y,nnparams,lamda=1,num_iter=50,alpha=0.1)"
   ]
  },
  {
   "cell_type": "code",
   "execution_count": null,
   "metadata": {},
   "outputs": [],
   "source": []
  }
 ],
 "metadata": {
  "kernelspec": {
   "display_name": "Python 3",
   "language": "python",
   "name": "python3"
  },
  "language_info": {
   "codemirror_mode": {
    "name": "ipython",
    "version": 3
   },
   "file_extension": ".py",
   "mimetype": "text/x-python",
   "name": "python",
   "nbconvert_exporter": "python",
   "pygments_lexer": "ipython3",
   "version": "3.7.6"
  }
 },
 "nbformat": 4,
 "nbformat_minor": 4
}
